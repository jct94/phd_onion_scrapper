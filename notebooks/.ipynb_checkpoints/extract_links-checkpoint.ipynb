{
 "cells": [
  {
   "cell_type": "code",
   "execution_count": 10,
   "id": "removed-westminster",
   "metadata": {},
   "outputs": [],
   "source": [
    "import pandas as pd\n",
    "import os"
   ]
  },
  {
   "cell_type": "code",
   "execution_count": 11,
   "id": "dominant-decade",
   "metadata": {},
   "outputs": [],
   "source": [
    "os.chdir('/Users/nzer94/Desktop/phd/phd_onion_scrapper/')"
   ]
  },
  {
   "cell_type": "code",
   "execution_count": 63,
   "id": "alternate-spine",
   "metadata": {},
   "outputs": [],
   "source": [
    "def get_onion_links(hunchly_report):\n",
    "    xl_file = pd.ExcelFile(hunchly_report)\n",
    "\n",
    "    dfs = {sheet_name: xl_file.parse(sheet_name) \n",
    "              for sheet_name in xl_file.sheet_names}\n",
    "\n",
    "    hunchly_links_ = dfs['Up']\n",
    "    hunchly_links = hunchly_links_[['Hidden Service']]\n",
    "    hidden_services_ = [hunchly_links_[['Hidden Service']].values[i][0] for i in range(len(hunchly_links))]\n",
    "\n",
    "    hidden_services = []\n",
    "    for url in hidden_services_:\n",
    "        url = 'http://' + url\n",
    "        hidden_services.append(url)\n",
    "        \n",
    "    return hidden_services"
   ]
  },
  {
   "cell_type": "code",
   "execution_count": null,
   "id": "descending-block",
   "metadata": {},
   "outputs": [],
   "source": []
  },
  {
   "cell_type": "code",
   "execution_count": 64,
   "id": "disciplinary-forum",
   "metadata": {},
   "outputs": [],
   "source": [
    "hidden_services = get_onion_links('onion_links/links_1.xlsx')\n",
    "\n",
    "with open('onion_links/onion_links_processed.txt', 'w') as f:\n",
    "    for item in hidden_services:\n",
    "        f.write(\"%s\\n\" % item)"
   ]
  },
  {
   "cell_type": "code",
   "execution_count": null,
   "id": "false-blank",
   "metadata": {},
   "outputs": [],
   "source": []
  }
 ],
 "metadata": {
  "kernelspec": {
   "display_name": "env",
   "language": "python",
   "name": "env"
  },
  "language_info": {
   "codemirror_mode": {
    "name": "ipython",
    "version": 3
   },
   "file_extension": ".py",
   "mimetype": "text/x-python",
   "name": "python",
   "nbconvert_exporter": "python",
   "pygments_lexer": "ipython3",
   "version": "3.8.2"
  }
 },
 "nbformat": 4,
 "nbformat_minor": 5
}
